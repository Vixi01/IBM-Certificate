{
 "cells": [
  {
   "cell_type": "markdown",
   "id": "1ab111bf-15b4-4240-afa6-4b16b354a7b6",
   "metadata": {
    "tags": []
   },
   "source": [
    "# Data Science Tools and Ecosystem"
   ]
  },
  {
   "cell_type": "markdown",
   "id": "0781b933-e3bf-48db-9847-21a68831d0a6",
   "metadata": {},
   "source": [
    "In this notebook, Data Science Tools and Ecosystem are summarized."
   ]
  },
  {
   "cell_type": "markdown",
   "id": "f1d9abd3-18bf-47b4-b47f-56a3d113d08c",
   "metadata": {},
   "source": [
    "Some of the popular languages that Data Scientists use are:\n",
    "1. R\n",
    "2. Scala\n",
    "3. Python"
   ]
  },
  {
   "cell_type": "markdown",
   "id": "505ff4c4-13d3-4edf-b718-dd2156ca221b",
   "metadata": {},
   "source": [
    "**Objectives:**\n",
    "- Data Science tools\n",
    "- Language of Data science\n",
    "- Libraries for Data Science\n",
    "- Introduction to Jupyter Notebooks"
   ]
  },
  {
   "cell_type": "markdown",
   "id": "ddc7d80c-d446-42e5-a973-657109669764",
   "metadata": {},
   "source": [
    "Some of the commonly used libraries used by Data Scientists include:\n",
    "1. Matplotlib\n",
    "2. Numpy\n",
    "3. Pandas"
   ]
  },
  {
   "cell_type": "markdown",
   "id": "0a19d656-60b9-4d42-aa14-3d042d6c1e54",
   "metadata": {
    "tags": []
   },
   "source": [
    "| Data Science Tools |\n",
    "| ---- |\n",
    "| RStudio | \n",
    "| TensorFlow | \n",
    "| Apache Spark |"
   ]
  },
  {
   "cell_type": "markdown",
   "id": "6829557d-3216-46bb-bc12-4cdbfad01ac9",
   "metadata": {},
   "source": [
    "### Below are a few examples of evaluating arithmetic expressions in Python"
   ]
  },
  {
   "cell_type": "code",
   "execution_count": 5,
   "id": "87bcf93a-9904-4b58-bcf7-b5ea2e8c611a",
   "metadata": {
    "tags": []
   },
   "outputs": [
    {
     "data": {
      "text/plain": [
       "17"
      ]
     },
     "execution_count": 5,
     "metadata": {},
     "output_type": "execute_result"
    }
   ],
   "source": [
    "# This a simple arithmetic expression to mutiply then add integers\n",
    "(3*4)+5"
   ]
  },
  {
   "cell_type": "code",
   "execution_count": 6,
   "id": "cee15beb-cf27-4c93-8773-7673d284666b",
   "metadata": {
    "tags": []
   },
   "outputs": [
    {
     "name": "stdout",
     "output_type": "stream",
     "text": [
      "3.3333333333333335\n"
     ]
    }
   ],
   "source": [
    "# This will convert 200 minutes to hours by diving by 60\n",
    "import datetime\n",
    "min = 200\n",
    "hours = min / 60\n",
    "print(hours)"
   ]
  },
  {
   "cell_type": "markdown",
   "id": "b3ac199b-3928-4310-ad22-d1ada216d0eb",
   "metadata": {},
   "source": [
    "## Author\n",
    "HaoJen Cheng"
   ]
  }
 ],
 "metadata": {
  "kernelspec": {
   "display_name": "Python",
   "language": "python",
   "name": "conda-env-python-py"
  },
  "language_info": {
   "codemirror_mode": {
    "name": "ipython",
    "version": 3
   },
   "file_extension": ".py",
   "mimetype": "text/x-python",
   "name": "python",
   "nbconvert_exporter": "python",
   "pygments_lexer": "ipython3",
   "version": "3.7.12"
  }
 },
 "nbformat": 4,
 "nbformat_minor": 5
}
